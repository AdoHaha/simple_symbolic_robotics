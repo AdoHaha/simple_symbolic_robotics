{
 "cells": [
  {
   "cell_type": "code",
   "execution_count": 2,
   "metadata": {},
   "outputs": [
    {
     "name": "stdout",
     "output_type": "stream",
     "text": [
      "Collecting simple_symbolic_robotics\n",
      "  Obtaining dependency information for simple_symbolic_robotics from https://files.pythonhosted.org/packages/81/25/1edfdb2c439f94d1216db3cc2133ebfb2e0a8542130755fdc6917f29423e/simple_symbolic_robotics-0.1.0-py3-none-any.whl.metadata\n",
      "  Downloading simple_symbolic_robotics-0.1.0-py3-none-any.whl.metadata (1.7 kB)\n",
      "Requirement already satisfied: numpy in /home/igor/anaconda3/lib/python3.7/site-packages (from simple_symbolic_robotics) (1.21.6)\n",
      "Requirement already satisfied: scipy in /home/igor/anaconda3/lib/python3.7/site-packages (from simple_symbolic_robotics) (1.7.3)\n",
      "Requirement already satisfied: sympy in /home/igor/anaconda3/lib/python3.7/site-packages (from simple_symbolic_robotics) (1.3)\n",
      "Downloading simple_symbolic_robotics-0.1.0-py3-none-any.whl (4.6 kB)\n",
      "Installing collected packages: simple_symbolic_robotics\n",
      "Successfully installed simple_symbolic_robotics-0.1.0\n",
      "\n",
      "\u001b[1m[\u001b[0m\u001b[34;49mnotice\u001b[0m\u001b[1;39;49m]\u001b[0m\u001b[39;49m A new release of pip is available: \u001b[0m\u001b[31;49m23.2.1\u001b[0m\u001b[39;49m -> \u001b[0m\u001b[32;49m23.3.1\u001b[0m\n",
      "\u001b[1m[\u001b[0m\u001b[34;49mnotice\u001b[0m\u001b[1;39;49m]\u001b[0m\u001b[39;49m To update, run: \u001b[0m\u001b[32;49mpip install --upgrade pip\u001b[0m\n"
     ]
    }
   ],
   "source": [
    "!pip install simple_symbolic_robotics"
   ]
  },
  {
   "cell_type": "code",
   "execution_count": 3,
   "metadata": {},
   "outputs": [
    {
     "name": "stdout",
     "output_type": "stream",
     "text": [
      "⎡√2     -√2    ⎤\n",
      "⎢──  0  ────  0⎥\n",
      "⎢2       2     ⎥\n",
      "⎢              ⎥\n",
      "⎢0   1   0    0⎥\n",
      "⎢              ⎥\n",
      "⎢√2      √2    ⎥\n",
      "⎢──  0   ──   0⎥\n",
      "⎢2       2     ⎥\n",
      "⎢              ⎥\n",
      "⎣0   0   0    1⎦\n"
     ]
    }
   ],
   "source": [
    "from simple_symbolic_robotics import Rx, Ry, Rz\n",
    "from sympy import pi, pprint\n",
    "\n",
    "# Rotation about the y-axis by -45 degrees\n",
    "rotation_matrix = Ry(-pi/4)\n",
    "pprint(rotation_matrix)"
   ]
  },
  {
   "cell_type": "code",
   "execution_count": null,
   "metadata": {},
   "outputs": [],
   "source": [
    "# Combining rotations: first about the y-axis by 30 degrees, then about the x-axis by 90 degrees\n",
    "combined_rotation = Ry(pi/6) * Rx(pi/2)\n",
    "pprint(combined_rotation)"
   ]
  },
  {
   "cell_type": "code",
   "execution_count": 8,
   "metadata": {},
   "outputs": [
    {
     "name": "stdout",
     "output_type": "stream",
     "text": [
      "⎡   1   √2        √6   √2   1    √2   1   √6     ⎤\n",
      "⎢   ─ + ──      - ── - ── + ─  - ── + ─ + ──   0 ⎥\n",
      "⎢   3   3         6    6    3    6    3   6      ⎥\n",
      "⎢                                                ⎥\n",
      "⎢  1   √2   √6    √6   1   √2      √2   1        ⎥\n",
      "⎢- ─ + ── + ──  - ── - ─ + ──    - ── - ─      0 ⎥\n",
      "⎢  3   6    6     6    3   6       3    3        ⎥\n",
      "⎢                                                ⎥\n",
      "⎢  √2   1   √6     1   √2        √6   √2   1     ⎥\n",
      "⎢- ── + ─ + ──     ─ + ──      - ── - ── + ─  0.1⎥\n",
      "⎢  6    3   6      3   3         6    6    3     ⎥\n",
      "⎢                                                ⎥\n",
      "⎣      0              0              0         1 ⎦\n",
      "⎡0.8   -0.31  0.51    0 ⎤\n",
      "⎢                       ⎥\n",
      "⎢0.31  -0.51  -0.8    0 ⎥\n",
      "⎢                       ⎥\n",
      "⎢0.51   0.8   -0.31  0.1⎥\n",
      "⎢                       ⎥\n",
      "⎣ 0      0      0    1.0⎦\n"
     ]
    }
   ],
   "source": [
    "from simple_symbolic_robotics import Trans, Rot, pN\n",
    "\n",
    "#Combining rotations and translations\n",
    "\n",
    "#First translation along z axis 0.1, then rotation around x axis pi/2, finally rotaiton around axis [1,1,1] and the angle pi/4\n",
    "\n",
    "H = Trans([0,0,0.1])*Rx(pi/2)*Rot([1,1,1],pi/4)\n",
    "\n",
    "pprint(H)\n",
    "\n",
    "pN(H) #print rounded"
   ]
  },
  {
   "cell_type": "code",
   "execution_count": null,
   "metadata": {},
   "outputs": [],
   "source": []
  }
 ],
 "metadata": {
  "kernelspec": {
   "display_name": "base",
   "language": "python",
   "name": "python3"
  },
  "language_info": {
   "codemirror_mode": {
    "name": "ipython",
    "version": 3
   },
   "file_extension": ".py",
   "mimetype": "text/x-python",
   "name": "python",
   "nbconvert_exporter": "python",
   "pygments_lexer": "ipython3",
   "version": "3.7.3"
  }
 },
 "nbformat": 4,
 "nbformat_minor": 2
}
