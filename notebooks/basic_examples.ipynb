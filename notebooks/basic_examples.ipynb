{
 "cells": [
  {
   "cell_type": "code",
   "execution_count": 2,
   "metadata": {},
   "outputs": [
    {
     "name": "stdout",
     "output_type": "stream",
     "text": [
      "Requirement already satisfied: simple_symbolic_robotics in /home/igor/anaconda3/lib/python3.7/site-packages (0.1.0)\n",
      "Requirement already satisfied: numpy in /home/igor/anaconda3/lib/python3.7/site-packages (from simple_symbolic_robotics) (1.21.6)\n",
      "Requirement already satisfied: scipy in /home/igor/anaconda3/lib/python3.7/site-packages (from simple_symbolic_robotics) (1.7.3)\n",
      "Requirement already satisfied: sympy in /home/igor/anaconda3/lib/python3.7/site-packages (from simple_symbolic_robotics) (1.3)\n",
      "\n",
      "\u001b[1m[\u001b[0m\u001b[34;49mnotice\u001b[0m\u001b[1;39;49m]\u001b[0m\u001b[39;49m A new release of pip is available: \u001b[0m\u001b[31;49m23.2.1\u001b[0m\u001b[39;49m -> \u001b[0m\u001b[32;49m23.3.1\u001b[0m\n",
      "\u001b[1m[\u001b[0m\u001b[34;49mnotice\u001b[0m\u001b[1;39;49m]\u001b[0m\u001b[39;49m To update, run: \u001b[0m\u001b[32;49mpip install --upgrade pip\u001b[0m\n"
     ]
    }
   ],
   "source": [
    "!pip install simple_symbolic_robotics"
   ]
  },
  {
   "cell_type": "code",
   "execution_count": 3,
   "metadata": {},
   "outputs": [
    {
     "name": "stdout",
     "output_type": "stream",
     "text": [
      "⎡√2     -√2    ⎤\n",
      "⎢──  0  ────  0⎥\n",
      "⎢2       2     ⎥\n",
      "⎢              ⎥\n",
      "⎢0   1   0    0⎥\n",
      "⎢              ⎥\n",
      "⎢√2      √2    ⎥\n",
      "⎢──  0   ──   0⎥\n",
      "⎢2       2     ⎥\n",
      "⎢              ⎥\n",
      "⎣0   0   0    1⎦\n"
     ]
    }
   ],
   "source": [
    "from simple_symbolic_robotics import Rx, Ry, Rz\n",
    "from sympy import pi, pprint\n",
    "\n",
    "# Rotation about the y-axis by -45 degrees\n",
    "rotation_matrix = Ry(-pi/4)\n",
    "pprint(rotation_matrix)"
   ]
  },
  {
   "cell_type": "code",
   "execution_count": 4,
   "metadata": {},
   "outputs": [
    {
     "name": "stdout",
     "output_type": "stream",
     "text": [
      "⎡ √3             ⎤\n",
      "⎢ ──   1/2  0   0⎥\n",
      "⎢ 2              ⎥\n",
      "⎢                ⎥\n",
      "⎢ 0     0   -1  0⎥\n",
      "⎢                ⎥\n",
      "⎢      √3        ⎥\n",
      "⎢-1/2  ──   0   0⎥\n",
      "⎢      2         ⎥\n",
      "⎢                ⎥\n",
      "⎣ 0     0   0   1⎦\n"
     ]
    }
   ],
   "source": [
    "# Combining rotations: first about the y-axis by 30 degrees, then about the x-axis by 90 degrees\n",
    "combined_rotation = Ry(pi/6) * Rx(pi/2)\n",
    "pprint(combined_rotation)"
   ]
  },
  {
   "cell_type": "code",
   "execution_count": 5,
   "metadata": {},
   "outputs": [
    {
     "name": "stdout",
     "output_type": "stream",
     "text": [
      "⎡   1   √2        √6   √2   1    √2   1   √6     ⎤\n",
      "⎢   ─ + ──      - ── - ── + ─  - ── + ─ + ──   0 ⎥\n",
      "⎢   3   3         6    6    3    6    3   6      ⎥\n",
      "⎢                                                ⎥\n",
      "⎢  1   √2   √6    √6   1   √2      √2   1        ⎥\n",
      "⎢- ─ + ── + ──  - ── - ─ + ──    - ── - ─      0 ⎥\n",
      "⎢  3   6    6     6    3   6       3    3        ⎥\n",
      "⎢                                                ⎥\n",
      "⎢  √2   1   √6     1   √2        √6   √2   1     ⎥\n",
      "⎢- ── + ─ + ──     ─ + ──      - ── - ── + ─  0.1⎥\n",
      "⎢  6    3   6      3   3         6    6    3     ⎥\n",
      "⎢                                                ⎥\n",
      "⎣      0              0              0         1 ⎦\n",
      "⎡0.8   -0.31  0.51    0 ⎤\n",
      "⎢                       ⎥\n",
      "⎢0.31  -0.51  -0.8    0 ⎥\n",
      "⎢                       ⎥\n",
      "⎢0.51   0.8   -0.31  0.1⎥\n",
      "⎢                       ⎥\n",
      "⎣ 0      0      0    1.0⎦\n"
     ]
    }
   ],
   "source": [
    "from simple_symbolic_robotics import Trans, Rot, pN\n",
    "\n",
    "#Combining rotations and translations\n",
    "\n",
    "#First translation along z axis 0.1, then rotation around x axis pi/2, finally rotaiton around axis [1,1,1] and the angle pi/4\n",
    "\n",
    "H = Trans([0,0,0.1])*Rx(pi/2)*Rot([1,1,1],pi/4)\n",
    "\n",
    "pprint(H)\n",
    "\n",
    "pN(H) #print rounded"
   ]
  },
  {
   "cell_type": "code",
   "execution_count": 6,
   "metadata": {},
   "outputs": [],
   "source": [
    "# define the transform for a row of d-h table\n",
    "\n",
    "def dh2H(theta,d,a,alpha):\n",
    "    return Rz(theta)*Trans([0,0,d])*Trans([a,0,0])*Rx(alpha)"
   ]
  },
  {
   "cell_type": "code",
   "execution_count": 7,
   "metadata": {},
   "outputs": [
    {
     "data": {
      "text/plain": [
       "Matrix([\n",
       "[cos(theta), -sin(theta)*cos(alpha),  sin(alpha)*sin(theta), a*cos(theta)],\n",
       "[sin(theta),  cos(alpha)*cos(theta), -sin(alpha)*cos(theta), a*sin(theta)],\n",
       "[         0,             sin(alpha),             cos(alpha),            d],\n",
       "[         0,                      0,                      0,            1]])"
      ]
     },
     "execution_count": 7,
     "metadata": {},
     "output_type": "execute_result"
    }
   ],
   "source": [
    "from sympy import symbols\n",
    "\n",
    "theta,d,a,alpha,beta_1,delta_2 = symbols(['theta','d','a','alpha','beta_1','delta_2'])\n",
    "dh2H(theta,d,a,alpha)"
   ]
  },
  {
   "cell_type": "code",
   "execution_count": 8,
   "metadata": {},
   "outputs": [
    {
     "name": "stdout",
     "output_type": "stream",
     "text": [
      "⎡cos(θ)  -sin(θ)⋅cos(α)  sin(α)⋅sin(θ)   a⋅cos(θ)⎤\n",
      "⎢                                                ⎥\n",
      "⎢sin(θ)  cos(α)⋅cos(θ)   -sin(α)⋅cos(θ)  a⋅sin(θ)⎥\n",
      "⎢                                                ⎥\n",
      "⎢  0         sin(α)          cos(α)         d    ⎥\n",
      "⎢                                                ⎥\n",
      "⎣  0           0               0            1    ⎦\n"
     ]
    }
   ],
   "source": [
    "pprint(dh2H(theta,d,a,alpha))"
   ]
  },
  {
   "cell_type": "code",
   "execution_count": 9,
   "metadata": {},
   "outputs": [
    {
     "name": "stdout",
     "output_type": "stream",
     "text": [
      "\\left[\\begin{matrix}\\cos{\\left (\\theta \\right )} & - \\sin{\\left (\\theta \\right )} \\cos{\\left (\\alpha \\right )} & \\sin{\\left (\\alpha \\right )} \\sin{\\left (\\theta \\right )} & a \\cos{\\left (\\theta \\right )}\\\\\\sin{\\left (\\theta \\right )} & \\cos{\\left (\\alpha \\right )} \\cos{\\left (\\theta \\right )} & - \\sin{\\left (\\alpha \\right )} \\cos{\\left (\\theta \\right )} & a \\sin{\\left (\\theta \\right )}\\\\0 & \\sin{\\left (\\alpha \\right )} & \\cos{\\left (\\alpha \\right )} & d\\\\0 & 0 & 0 & 1\\end{matrix}\\right]\n"
     ]
    }
   ],
   "source": [
    "from simple_symbolic_robotics import platex\n",
    "\n",
    "platex(dh2H(theta,d,a,alpha))"
   ]
  },
  {
   "cell_type": "code",
   "execution_count": null,
   "metadata": {},
   "outputs": [],
   "source": []
  }
 ],
 "metadata": {
  "kernelspec": {
   "display_name": "Python 3 (ipykernel)",
   "language": "python",
   "name": "python3"
  },
  "language_info": {
   "codemirror_mode": {
    "name": "ipython",
    "version": 3
   },
   "file_extension": ".py",
   "mimetype": "text/x-python",
   "name": "python",
   "nbconvert_exporter": "python",
   "pygments_lexer": "ipython3",
   "version": "3.7.3"
  }
 },
 "nbformat": 4,
 "nbformat_minor": 2
}
